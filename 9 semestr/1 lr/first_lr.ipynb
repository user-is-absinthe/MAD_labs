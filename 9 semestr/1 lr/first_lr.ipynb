{
 "cells": [
  {
   "cell_type": "code",
   "execution_count": 5,
   "metadata": {
    "collapsed": true
   },
   "outputs": [],
   "source": [
    "from nltk import word_tokenize\n",
    "from nltk.stem.porter import PorterStemmer\n",
    "from nltk.corpus import stopwords\n",
    "import re\n",
    " \n",
    "cachedStopWords = stopwords.words(\"english\")\n",
    "\n",
    "\n",
    "def tokenize(text):\n",
    "    min_length = 3\n",
    "    words = map(lambda word: word.lower(), word_tokenize(text))\n",
    "    words = [word for word in words if word not in cachedStopWords]\n",
    "    tokens = (list(map(lambda token: PorterStemmer().stem(token), words)))\n",
    "    p = re.compile('[a-zA-Z]+')\n",
    "    filtered_tokens = list(\n",
    "        filter(lambda token: p.match(token) and len(token) >= min_length, tokens)\n",
    "    )\n",
    "    return filtered_tokens\n"
   ]
  },
  {
   "cell_type": "code",
   "execution_count": 6,
   "metadata": {},
   "outputs": [
    {
     "name": "stderr",
     "output_type": "stream",
     "text": [
      "/Users/owl/Pycharm/PycharmVEnv/numerical_methods_venv/lib/python3.6/site-packages/sklearn/feature_extraction/text.py:300: UserWarning: Your stop_words may be inconsistent with your preprocessing. Tokenizing the stop words generated tokens ['could', 'might', 'must', \"n't\", 'need', 'sha', 'would'] not in stop_words.\n  'stop_words.' % sorted(inconsistent))\n"
     ]
    }
   ],
   "source": [
    "from nltk.corpus import stopwords, reuters\n",
    "from sklearn.feature_extraction.text import TfidfVectorizer\n",
    "from sklearn.preprocessing import MultiLabelBinarizer\n",
    "\n",
    "stop_words = stopwords.words(\"english\")\n",
    "\n",
    "\n",
    "documents = reuters.fileids()\n",
    "train_docs_id = list(filter(lambda doc: doc.startswith(\"train\"), documents))\n",
    "train_docs = [reuters.raw(doc_id) for doc_id in train_docs_id]\n",
    "# Tokenisation\n",
    "vectorizer = TfidfVectorizer(stop_words=stop_words, tokenizer=tokenize)\n",
    "# Learn and transform train documents\n",
    "vectorised_train_documents = vectorizer.fit_transform(train_docs)\n",
    "# Transform multilabel labels\n",
    "mlb = MultiLabelBinarizer()\n",
    "train_labels = mlb.fit_transform([reuters.categories(doc_id) for doc_id in train_docs_id])\n",
    "\n",
    "\n"
   ]
  },
  {
   "cell_type": "code",
   "execution_count": 10,
   "metadata": {},
   "outputs": [
    {
     "data": {
      "text/plain": [
       "68289"
      ]
     },
     "execution_count": 10,
     "metadata": {},
     "output_type": "execute_result"
    }
   ],
   "source": [
    "# get set of all words\n",
    "all_words = list()\n",
    "# train_docs[0]\n",
    "for text in train_docs:\n",
    "    all_words += text.replace('\\n', ' ').split(' ')\n",
    "all_words_set = set(all_words)\n",
    "len(all_words_set)\n"
   ]
  },
  {
   "cell_type": "code",
   "execution_count": 15,
   "metadata": {
    "collapsed": false
   },
   "outputs": [
    {
     "data": {
      "text/html": [
       "<div>\n",
       "<style scoped>\n",
       "    .dataframe tbody tr th:only-of-type {\n",
       "        vertical-align: middle;\n",
       "    }\n",
       "\n",
       "    .dataframe tbody tr th {\n",
       "        vertical-align: top;\n",
       "    }\n",
       "\n",
       "    .dataframe thead th {\n",
       "        text-align: right;\n",
       "    }\n",
       "</style>\n",
       "<table border=\"1\" class=\"dataframe\">\n",
       "  <thead>\n",
       "    <tr style=\"text-align: right;\">\n",
       "      <th></th>\n",
       "      <th>Характеристика</th>\n",
       "      <th>Значение</th>\n",
       "    </tr>\n",
       "  </thead>\n",
       "  <tbody>\n",
       "    <tr>\n",
       "      <th>0</th>\n",
       "      <td>название массива</td>\n",
       "      <td>reuters-21578</td>\n",
       "    </tr>\n",
       "    <tr>\n",
       "      <th>1</th>\n",
       "      <td>общее число слов во всех текстах</td>\n",
       "      <td>68289</td>\n",
       "    </tr>\n",
       "    <tr>\n",
       "      <th>2</th>\n",
       "      <td>кол-во текстов в массиве</td>\n",
       "      <td>7769</td>\n",
       "    </tr>\n",
       "    <tr>\n",
       "      <th>3</th>\n",
       "      <td>кол-во рубрик</td>\n",
       "      <td>90</td>\n",
       "    </tr>\n",
       "    <tr>\n",
       "      <th>4</th>\n",
       "      <td>кол-во текстов в рубриках (среднее)</td>\n",
       "      <td>2</td>\n",
       "    </tr>\n",
       "  </tbody>\n",
       "</table>\n",
       "</div>"
      ],
      "text/plain": [
       "<div>\n",
       "<style scoped>\n",
       "    .dataframe tbody tr th:only-of-type {\n",
       "        vertical-align: middle;\n",
       "    }\n",
       "\n",
       "    .dataframe tbody tr th {\n",
       "        vertical-align: top;\n",
       "    }\n",
       "\n",
       "    .dataframe thead th {\n",
       "        text-align: right;\n",
       "    }\n",
       "</style>\n",
       "<table border=\"1\" class=\"dataframe\">\n",
       "  <thead>\n",
       "    <tr style=\"text-align: right;\">\n",
       "      <th></th>\n",
       "      <th>Характеристика</th>\n",
       "      <th>Значение</th>\n",
       "    </tr>\n",
       "  </thead>\n",
       "  <tbody>\n",
       "    <tr>\n",
       "      <th>0</th>\n",
       "      <td>название массива</td>\n",
       "      <td>reuters-21578</td>\n",
       "    </tr>\n",
       "    <tr>\n",
       "      <th>1</th>\n",
       "      <td>общее число слов во всех текстах</td>\n",
       "      <td>68289</td>\n",
       "    </tr>\n",
       "    <tr>\n",
       "      <th>2</th>\n",
       "      <td>кол-во текстов в массиве</td>\n",
       "      <td>7769</td>\n",
       "    </tr>\n",
       "    <tr>\n",
       "      <th>3</th>\n",
       "      <td>кол-во рубрик</td>\n",
       "      <td>90</td>\n",
       "    </tr>\n",
       "    <tr>\n",
       "      <th>4</th>\n",
       "      <td>кол-во текстов в рубриках (среднее)</td>\n",
       "      <td>2</td>\n",
       "    </tr>\n",
       "  </tbody>\n",
       "</table>\n",
       "</div>"
      ]
     },
     "execution_count": 15,
     "metadata": {},
     "output_type": "execute_result"
    }
   ],
   "source": [
    "import pandas as pd\n",
    "data = [\n",
    "    ['название массива', 'reuters-21578'],\n",
    "    ['общее число слов во всех текстах', len(all_words_set)],\n",
    "    ['кол-во текстов в массиве', len(train_docs)],\n",
    "    ['кол-во рубрик', len(reuters.categories())],\n",
    "    ['кол-во текстов в рубриках (среднее)', 2],\n",
    "]\n",
    "pd.DataFrame(data, columns=[\"Характеристика\", \"Значение\"])\n"
   ]
  },
  {
   "cell_type": "code",
   "execution_count": 12,
   "metadata": {
    "collapsed": false
   },
   "outputs": [
    {
     "data": {
      "text/plain": [
       "['acq',\n 'alum',\n 'barley',\n 'bop',\n 'carcass',\n 'castor-oil',\n 'cocoa',\n 'coconut',\n 'coconut-oil',\n 'coffee',\n 'copper',\n 'copra-cake',\n 'corn',\n 'cotton',\n 'cotton-oil',\n 'cpi',\n 'cpu',\n 'crude',\n 'dfl',\n 'dlr',\n 'dmk',\n 'earn',\n 'fuel',\n 'gas',\n 'gnp',\n 'gold',\n 'grain',\n 'groundnut',\n 'groundnut-oil',\n 'heat',\n 'hog',\n 'housing',\n 'income',\n 'instal-debt',\n 'interest',\n 'ipi',\n 'iron-steel',\n 'jet',\n 'jobs',\n 'l-cattle',\n 'lead',\n 'lei',\n 'lin-oil',\n 'livestock',\n 'lumber',\n 'meal-feed',\n 'money-fx',\n 'money-supply',\n 'naphtha',\n 'nat-gas',\n 'nickel',\n 'nkr',\n 'nzdlr',\n 'oat',\n 'oilseed',\n 'orange',\n 'palladium',\n 'palm-oil',\n 'palmkernel',\n 'pet-chem',\n 'platinum',\n 'potato',\n 'propane',\n 'rand',\n 'rape-oil',\n 'rapeseed',\n 'reserves',\n 'retail',\n 'rice',\n 'rubber',\n 'rye',\n 'ship',\n 'silver',\n 'sorghum',\n 'soy-meal',\n 'soy-oil',\n 'soybean',\n 'strategic-metal',\n 'sugar',\n 'sun-meal',\n 'sun-oil',\n 'sunseed',\n 'tea',\n 'tin',\n 'trade',\n 'veg-oil',\n 'wheat',\n 'wpi',\n 'yen',\n 'zinc']"
      ]
     },
     "execution_count": 12,
     "metadata": {},
     "output_type": "execute_result"
    }
   ],
   "source": [
    "reuters.categories()"
   ]
  },
  {
   "cell_type": "code",
   "execution_count": null,
   "metadata": {},
   "outputs": [],
   "source": []
  }
 ],
 "metadata": {
  "kernelspec": {
   "display_name": "Python 2",
   "language": "python",
   "name": "python2"
  },
  "language_info": {
   "codemirror_mode": {
    "name": "ipython",
    "version": 2
   },
   "file_extension": ".py",
   "mimetype": "text/x-python",
   "name": "python",
   "nbconvert_exporter": "python",
   "pygments_lexer": "ipython2",
   "version": "2.7.6"
  }
 },
 "nbformat": 4,
 "nbformat_minor": 0
}
